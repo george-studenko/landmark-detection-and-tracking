{
 "cells": [
  {
   "cell_type": "markdown",
   "metadata": {},
   "source": [
    "# Project 3:  Implement SLAM \n",
    "\n",
    "---\n",
    "\n",
    "## Project Overview\n",
    "\n",
    "In this project, you'll implement SLAM for robot that moves and senses in a 2 dimensional, grid world!\n",
    "\n",
    "SLAM gives us a way to both localize a robot and build up a map of its environment as a robot moves and senses in real-time. This is an active area of research in the fields of robotics and autonomous systems. Since this localization and map-building relies on the visual sensing of landmarks, this is a computer vision problem. \n",
    "\n",
    "Using what you've learned about robot motion, representations of uncertainty in motion and sensing, and localization techniques, you will be tasked with defining a function, `slam`, which takes in six parameters as input and returns the vector `mu`. \n",
    "> `mu` contains the (x,y) coordinate locations of the robot as it moves, and the positions of landmarks that it senses in the world\n",
    "\n",
    "You can implement helper functions as you see fit, but your function must return `mu`. The vector, `mu`, should have (x, y) coordinates interlaced, for example, if there were 2 poses and 2 landmarks, `mu` will look like the following, where `P` is the robot position and `L` the landmark position:\n",
    "```\n",
    "mu =  matrix([[Px0],\n",
    "              [Py0],\n",
    "              [Px1],\n",
    "              [Py1],\n",
    "              [Lx0],\n",
    "              [Ly0],\n",
    "              [Lx1],\n",
    "              [Ly1]])\n",
    "```\n",
    "\n",
    "You can see that `mu` holds the poses first `(x0, y0), (x1, y1), ...,` then the landmark locations at the end of the matrix; we consider a `nx1` matrix to be a vector.\n",
    "\n",
    "## Generating an environment\n",
    "\n",
    "In a real SLAM problem, you may be given a map that contains information about landmark locations, and in this example, we will make our own data using the `make_data` function, which generates a world grid with landmarks in it and then generates data by placing a robot in that world and moving and sensing over some numer of time steps. The `make_data` function relies on a correct implementation of robot move/sense functions, which, at this point, should be complete and in the `robot_class.py` file. The data is collected as an instantiated robot moves and senses in a world. Your SLAM function will take in this data as input. So, let's first create this data and explore how it represents the movement and sensor measurements that our robot takes.\n",
    "\n",
    "---"
   ]
  },
  {
   "cell_type": "markdown",
   "metadata": {},
   "source": [
    "## Create the world\n",
    "\n",
    "Use the code below to generate a world of a specified size with randomly generated landmark locations. You can change these parameters and see how your implementation of SLAM responds! \n",
    "\n",
    "`data` holds the sensors measurements and motion of your robot over time. It stores the measurements as `data[i][0]` and the motion as `data[i][1]`.\n",
    "\n",
    "#### Helper functions\n",
    "\n",
    "You will be working with the `robot` class that may look familiar from the first notebook, \n",
    "\n",
    "In fact, in the `helpers.py` file, you can read the details of how data is made with the `make_data` function. It should look very similar to the robot move/sense cycle you've seen in the first notebook."
   ]
  },
  {
   "cell_type": "code",
   "execution_count": 182,
   "metadata": {
    "ExecuteTime": {
     "end_time": "2018-11-29T21:08:39.130077Z",
     "start_time": "2018-11-29T21:08:39.106099Z"
    }
   },
   "outputs": [
    {
     "name": "stdout",
     "output_type": "stream",
     "text": [
      " \n",
      "Landmarks:  [[29, 20], [75, 7], [54, 72], [11, 31], [29, 18]]\n",
      "Robot: [x=42.54824 y=43.88693]\n"
     ]
    }
   ],
   "source": [
    "import numpy as np\n",
    "from helpers import make_data\n",
    "\n",
    "# your implementation of slam should work with the following inputs\n",
    "# feel free to change these input values and see how it responds!\n",
    "\n",
    "# world parameters\n",
    "num_landmarks      = 5        # number of landmarks\n",
    "N                  = 20       # time steps\n",
    "world_size         = 100.0    # size of world (square)\n",
    "\n",
    "# robot parameters\n",
    "measurement_range  = 50.0     # range at which we can sense landmarks\n",
    "motion_noise       = 2.0      # noise in robot motion\n",
    "measurement_noise  = 2.0      # noise in the measurements\n",
    "distance           = 20.0     # distance by which robot (intends to) move each iteratation \n",
    "\n",
    "\n",
    "# make_data instantiates a robot, AND generates random landmarks for a given world size and number of landmarks\n",
    "data = make_data(N, num_landmarks, world_size, measurement_range, motion_noise, measurement_noise, distance)"
   ]
  },
  {
   "cell_type": "code",
   "execution_count": 183,
   "metadata": {
    "ExecuteTime": {
     "end_time": "2018-11-29T21:08:39.573665Z",
     "start_time": "2018-11-29T21:08:39.565672Z"
    },
    "collapsed": true
   },
   "outputs": [],
   "source": [
    "measurement = data[2][0]\n",
    "motion = data[2][1]"
   ]
  },
  {
   "cell_type": "code",
   "execution_count": 184,
   "metadata": {
    "ExecuteTime": {
     "end_time": "2018-11-29T21:08:40.072199Z",
     "start_time": "2018-11-29T21:08:40.063208Z"
    }
   },
   "outputs": [
    {
     "data": {
      "text/plain": [
       "[[0, 22.00798010099863, -7.496338278846414],\n",
       " [1, 24.274788987030853, 2.8675369931706127],\n",
       " [2, 5.17876666576146, -59.55269385257237],\n",
       " [3, 37.11085852318459, -19.097585319735437],\n",
       " [4, 21.55623978708702, -7.31078555644549]]"
      ]
     },
     "execution_count": 184,
     "metadata": {},
     "output_type": "execute_result"
    }
   ],
   "source": [
    "measurement"
   ]
  },
  {
   "cell_type": "code",
   "execution_count": 185,
   "metadata": {
    "ExecuteTime": {
     "end_time": "2018-11-29T21:08:40.655659Z",
     "start_time": "2018-11-29T21:08:40.646665Z"
    }
   },
   "outputs": [
    {
     "data": {
      "text/plain": [
       "[-2.599605328880177, 19.830331619366778]"
      ]
     },
     "execution_count": 185,
     "metadata": {},
     "output_type": "execute_result"
    }
   ],
   "source": [
    "motion"
   ]
  },
  {
   "cell_type": "code",
   "execution_count": 186,
   "metadata": {
    "ExecuteTime": {
     "end_time": "2018-11-29T21:08:41.277081Z",
     "start_time": "2018-11-29T21:08:41.190161Z"
    },
    "scrolled": false
   },
   "outputs": [
    {
     "name": "stdout",
     "output_type": "stream",
     "text": [
      "0 - Measurement:  [0, 20.89684746165315, 28.532412795069664]\n",
      "0 - Measurement:  [1, 24.1617066383699, 42.67080076192847]\n",
      "0 - Measurement:  [2, 2.999601918513319, -20.082290845960397]\n",
      "0 - Measurement:  [3, 37.36633521927283, 19.51680370350105]\n",
      "0 - Measurement:  [4, 20.567725688191675, 33.6594334178443]\n",
      "0 - Motion:       [0.07214295052108002, -19.999869884444003]\n",
      "\n",
      "\n",
      "1 - Measurement:  [0, 22.00487912706836, 8.022614622498836]\n",
      "1 - Measurement:  [1, 24.208322217802525, 20.41329690431155]\n",
      "1 - Measurement:  [2, 2.953193332660346, -44.56111300643781]\n",
      "1 - Measurement:  [3, 38.69622212624717, -3.2285763728706036]\n",
      "1 - Measurement:  [4, 18.99439815774942, 12.693700103277203]\n",
      "1 - Motion:       [0.07214295052108002, -19.999869884444003]\n",
      "\n",
      "\n",
      "2 - Measurement:  [0, 22.00798010099863, -7.496338278846414]\n",
      "2 - Measurement:  [1, 24.274788987030853, 2.8675369931706127]\n",
      "2 - Measurement:  [2, 5.17876666576146, -59.55269385257237]\n",
      "2 - Measurement:  [3, 37.11085852318459, -19.097585319735437]\n",
      "2 - Measurement:  [4, 21.55623978708702, -7.31078555644549]\n",
      "2 - Motion:       [-2.599605328880177, 19.830331619366778]\n",
      "\n",
      "\n",
      "3 - Measurement:  [0, 19.075838029079087, 12.789557465985702]\n",
      "3 - Measurement:  [1, 27.18365162295418, 25.921206578899337]\n",
      "3 - Measurement:  [2, 7.875300879930105, -41.60434897044499]\n",
      "3 - Measurement:  [3, 33.5460915637406, 1.8288829930895338]\n",
      "3 - Measurement:  [4, 15.431182983744456, 14.008817076760389]\n",
      "3 - Motion:       [-2.599605328880177, 19.830331619366778]\n",
      "\n",
      "\n",
      "4 - Measurement:  [0, 16.611308594438267, 30.196433349567258]\n",
      "4 - Measurement:  [1, 31.13122765254917, 44.80712976623075]\n",
      "4 - Measurement:  [2, 7.1057752086275245, -21.010224096709695]\n",
      "4 - Measurement:  [3, 34.21778718318377, 18.65004449582065]\n",
      "4 - Measurement:  [4, 17.766329412110487, 30.088252611642663]\n",
      "4 - Motion:       [-2.599605328880177, 19.830331619366778]\n",
      "\n",
      "\n",
      "5 - Measurement:  [0, 16.62451642074076, 49.83924168299646]\n",
      "5 - Measurement:  [2, 11.947288726082562, -4.874523434688768]\n",
      "5 - Measurement:  [3, 31.783853974285357, 38.5025078818012]\n",
      "5 - Measurement:  [4, 15.879231215497597, 49.680905514638624]\n",
      "5 - Motion:       [-2.599605328880177, 19.830331619366778]\n",
      "\n",
      "\n",
      "6 - Measurement:  [2, 14.42429694804181, 14.310115096515602]\n",
      "6 - Motion:       [-19.639883190214306, 3.7782255457737675]\n",
      "\n",
      "\n",
      "7 - Measurement:  [2, 34.00577543981001, 19.925538432070276]\n",
      "7 - Motion:       [-19.639883190214306, 3.7782255457737675]\n",
      "\n",
      "\n",
      "8 - Motion:       [3.3893324080289706, -19.710718551790155]\n",
      "\n",
      "\n",
      "9 - Measurement:  [2, 46.97153777426592, 5.2104601364492495]\n",
      "9 - Measurement:  [3, 7.154489452618504, 44.69110608573677]\n",
      "9 - Motion:       [3.3893324080289706, -19.710718551790155]\n",
      "\n",
      "\n",
      "10 - Measurement:  [0, 18.682024386616074, 35.79774449340042]\n",
      "10 - Measurement:  [2, 43.87064683963588, -18.134339686978972]\n",
      "10 - Measurement:  [3, 3.06622872324917, 25.968527458985953]\n",
      "10 - Measurement:  [4, 20.51080190092318, 35.45086449103785]\n",
      "10 - Motion:       [3.3893324080289706, -19.710718551790155]\n",
      "\n",
      "\n",
      "11 - Measurement:  [0, 18.081066886645747, 17.31110349617535]\n",
      "11 - Measurement:  [2, 43.24500200917245, -36.60625751374893]\n",
      "11 - Measurement:  [3, -1.4916543045766866, 5.705465922451287]\n",
      "11 - Measurement:  [4, 18.539217658801878, 18.847945824504244]\n",
      "11 - Motion:       [3.3893324080289706, -19.710718551790155]\n",
      "\n",
      "\n",
      "12 - Measurement:  [0, 14.977977718996108, -5.926167258924272]\n",
      "12 - Measurement:  [2, 39.01560336055814, -57.368675697604615]\n",
      "12 - Measurement:  [3, 0.8792892482797958, -15.951606955194945]\n",
      "12 - Measurement:  [4, 14.095279501917545, -2.4720767220273525]\n",
      "12 - Motion:       [19.96638825545013, -1.1590254667707587]\n",
      "\n",
      "\n",
      "13 - Measurement:  [0, 2.7933958839207422, -5.466741249508822]\n",
      "13 - Measurement:  [1, 43.94688101101423, 8.096744663101813]\n",
      "13 - Measurement:  [2, 21.839110661782932, -57.15299048015872]\n",
      "13 - Measurement:  [3, 22.32927927959032, -14.719260304125592]\n",
      "13 - Measurement:  [4, 4.775178868215262, -3.6241149898943896]\n",
      "13 - Motion:       [19.96638825545013, -1.1590254667707587]\n",
      "\n",
      "\n",
      "14 - Measurement:  [0, 24.853591939288965, -8.463577635262473]\n",
      "14 - Measurement:  [1, 23.757303794249797, 6.059095767252753]\n",
      "14 - Measurement:  [2, 2.006695711641875, -58.10907847959933]\n",
      "14 - Measurement:  [3, 41.16937990734011, -17.102154581282985]\n",
      "14 - Measurement:  [4, 24.51588989903262, -5.222990648830436]\n",
      "14 - Motion:       [19.96638825545013, -1.1590254667707587]\n",
      "\n",
      "\n",
      "15 - Measurement:  [0, 44.816509529215566, -6.251156545900029]\n",
      "15 - Measurement:  [1, 2.6591581245859532, 4.554727864489456]\n",
      "15 - Measurement:  [2, 18.234442743310236, -61.66924181026901]\n",
      "15 - Measurement:  [4, 44.274057825626436, -4.1745280007000005]\n",
      "15 - Motion:       [19.96638825545013, -1.1590254667707587]\n",
      "\n",
      "\n",
      "16 - Measurement:  [1, 17.917547057588898, 4.521678340823951]\n",
      "16 - Measurement:  [2, 37.53437699447211, -61.88120609936356]\n",
      "16 - Motion:       [-17.39540575882519, 9.869136663651553]\n",
      "\n",
      "\n",
      "17 - Measurement:  [0, 45.57589347358863, 4.893479061173746]\n",
      "17 - Measurement:  [1, 1.821962928126713, 17.420961490943796]\n",
      "17 - Measurement:  [2, 20.653399644559396, -47.909829248963845]\n",
      "17 - Measurement:  [4, 48.726742422901104, 6.460846665690385]\n",
      "17 - Motion:       [-17.39540575882519, 9.869136663651553]\n",
      "\n",
      "\n",
      "18 - Measurement:  [0, 30.30061340674768, 12.817649223402046]\n",
      "18 - Measurement:  [1, 12.782398167396833, 27.1048048553723]\n",
      "18 - Measurement:  [2, 7.63771472283584, -36.81046710256334]\n",
      "18 - Measurement:  [4, 32.40786271917605, 14.11716597306138]\n",
      "18 - Motion:       [-17.39540575882519, 9.869136663651553]\n",
      "\n",
      "\n"
     ]
    }
   ],
   "source": [
    "for idx,item in enumerate(data):\n",
    "    #print(\"Measurements: {0}\\nData: {1}\\n\\n\".format(item[0],item[1]))\n",
    "    for measurement in item[0]:\n",
    "        print(idx,\"- Measurement: \",measurement)\n",
    "    print(idx,'- Motion:      ',item[1])\n",
    "    print('\\n')"
   ]
  },
  {
   "cell_type": "markdown",
   "metadata": {},
   "source": [
    "### A note on `make_data`\n",
    "\n",
    "The function above, `make_data`, takes in so many world and robot motion/sensor parameters because it is responsible for:\n",
    "1. Instantiating a robot (using the robot class)\n",
    "2. Creating a grid world with landmarks in it\n",
    "\n",
    "**This function also prints out the true location of landmarks and the *final* robot location, which you should refer back to when you test your implementation of SLAM.**\n",
    "\n",
    "The `data` this returns is an array that holds information about **robot sensor measurements** and **robot motion** `(dx, dy)` that is collected over a number of time steps, `N`. You will have to use *only* these readings about motion and measurements to track a robot over time and find the determine the location of the landmarks using SLAM. We only print out the true landmark locations for comparison, later.\n",
    "\n",
    "\n",
    "In `data` the measurement and motion data can be accessed from the first and second index in the columns of the data array. See the following code for an example, where `i` is the time step:\n",
    "```\n",
    "measurement = data[i][0]\n",
    "motion = data[i][1]\n",
    "```\n"
   ]
  },
  {
   "cell_type": "code",
   "execution_count": 187,
   "metadata": {
    "ExecuteTime": {
     "end_time": "2018-11-29T21:08:41.764627Z",
     "start_time": "2018-11-29T21:08:41.753637Z"
    }
   },
   "outputs": [
    {
     "name": "stdout",
     "output_type": "stream",
     "text": [
      "Example measurements: \n",
      " [[0, 20.89684746165315, 28.532412795069664], [1, 24.1617066383699, 42.67080076192847], [2, 2.999601918513319, -20.082290845960397], [3, 37.36633521927283, 19.51680370350105], [4, 20.567725688191675, 33.6594334178443]]\n",
      "\n",
      "\n",
      "Example motion: \n",
      " [0.07214295052108002, -19.999869884444003]\n"
     ]
    }
   ],
   "source": [
    "# print out some stats about the data\n",
    "time_step = 0\n",
    "\n",
    "print('Example measurements: \\n', data[time_step][0])\n",
    "print('\\n')\n",
    "print('Example motion: \\n', data[time_step][1])"
   ]
  },
  {
   "cell_type": "markdown",
   "metadata": {},
   "source": [
    "Try changing the value of `time_step`, you should see that the list of measurements varies based on what in the world the robot sees after it moves. As you know from the first notebook, the robot can only sense so far and with a certain amount of accuracy in the measure of distance between its location and the location of landmarks. The motion of the robot always is a vector with two values: one for x and one for y displacement. This structure will be useful to keep in mind as you traverse this data in your implementation of slam."
   ]
  },
  {
   "cell_type": "markdown",
   "metadata": {},
   "source": [
    "## Initialize Constraints\n",
    "\n",
    "One of the most challenging tasks here will be to create and modify the constraint matrix and vector: omega and xi. In the second notebook, you saw an example of how omega and xi could hold all the values the define the relationships between robot poses `xi` and landmark positions `Li` in a 1D world, as seen below, where omega is the blue matrix and xi is the pink vector.\n",
    "\n",
    "<img src='images/motion_constraint.png' width=50% height=50% />\n",
    "\n",
    "\n",
    "In *this* project, you are tasked with implementing constraints for a 2D world. We are referring to robot poses as `Px, Py` and landmark positions as `Lx, Ly`, and one way to approach this challenge is to add *both* x and y locations in the constraint matrices.\n",
    "\n",
    "<img src='images/constraints2D.png' width=50% height=50% />\n",
    "\n",
    "You may also choose to create two of each omega and xi (one for x and one for y positions)."
   ]
  },
  {
   "cell_type": "markdown",
   "metadata": {},
   "source": [
    "### TODO: Write a function that initializes omega and xi\n",
    "\n",
    "Complete the function `initialize_constraints` so that it returns `omega` and `xi` constraints for the starting position of the robot. Any values that we do not yet know should be initialized with the value `0`. You may assume that our robot starts out in exactly the middle of the world with 100% confidence (no motion or measurement noise at this point). The inputs `N` time steps, `num_landmarks`, and `world_size` should give you all the information you need to construct intial constraints of the correct size and starting values.\n",
    "\n",
    "*Depending on your approach you may choose to return one omega and one xi that hold all (x,y) positions *or* two of each (one for x values and one for y); choose whichever makes most sense to you!*"
   ]
  },
  {
   "cell_type": "code",
   "execution_count": 188,
   "metadata": {
    "ExecuteTime": {
     "end_time": "2018-11-29T21:08:43.021455Z",
     "start_time": "2018-11-29T21:08:42.974499Z"
    },
    "collapsed": true
   },
   "outputs": [],
   "source": [
    "def initialize_constraints(N, num_landmarks, world_size):\n",
    "    ''' This function takes in a number of time steps N, number of landmarks, and a world_size,\n",
    "        and returns initialized constraint matrices, omega and xi.'''\n",
    "    \n",
    "    ## Recommended: Define and store the size (rows/cols) of the constraint matrix in a variable\n",
    "    \n",
    "    ## TODO: Define the constraint matrix, Omega, with two initial \"strength\" values\n",
    "    ## for the initial x, y location of our robot\n",
    "    \n",
    "    rows = 2 * (N + num_landmarks)\n",
    "    cols = 2 * (N + num_landmarks)    \n",
    "    inittial_position_x = world_size / 2.\n",
    "    inittial_position_y = world_size / 2. \n",
    "    \n",
    "    x0 = 0 \n",
    "    y0 = 1\n",
    "    \n",
    "    omega = np.zeros((rows,cols))    \n",
    "    \n",
    "    omega[x0][x0] = 1\n",
    "    omega[y0][y0]  = 1    \n",
    "    \n",
    "    ## TODO: Define the constraint *vector*, xi\n",
    "    ## you can assume that the robot starts out in the middle of the world with 100% confidence\n",
    "    xi = np.zeros((rows,1))    \n",
    "\n",
    "    xi[x0][0] = inittial_position_x\n",
    "    xi[y0][0] = inittial_position_y\n",
    "    return omega, xi\n",
    "    "
   ]
  },
  {
   "cell_type": "markdown",
   "metadata": {},
   "source": [
    "### Test as you go\n",
    "\n",
    "It's good practice to test out your code, as you go. Since `slam` relies on creating and updating constraint matrices, `omega` and `xi` to account for robot sensor measurements and motion, let's check that they initialize as expected for any given parameters.\n",
    "\n",
    "Below, you'll find some test code that allows you to visualize the results of your function `initialize_constraints`. We are using the [seaborn](https://seaborn.pydata.org/) library for visualization.\n",
    "\n",
    "**Please change the test values of N, landmarks, and world_size and see the results**. Be careful not to use these values as input into your final smal function.\n",
    "\n",
    "This code assumes that you have created one of each constraint: `omega` and `xi`, but you can change and add to this code, accordingly. The constraints should vary in size with the number of time steps and landmarks as these values affect the number of poses a robot will take `(Px0,Py0,...Pxn,Pyn)` and landmark locations `(Lx0,Ly0,...Lxn,Lyn)` whose relationships should be tracked in the constraint matrices. Recall that `omega` holds the weights of each variable and `xi` holds the value of the sum of these variables, as seen in Notebook 2. You'll need the `world_size` to determine the starting pose of the robot in the world and fill in the initial values for `xi`."
   ]
  },
  {
   "cell_type": "code",
   "execution_count": 189,
   "metadata": {
    "ExecuteTime": {
     "end_time": "2018-11-29T21:08:43.930611Z",
     "start_time": "2018-11-29T21:08:43.897641Z"
    },
    "collapsed": true
   },
   "outputs": [],
   "source": [
    "# import data viz resources\n",
    "import matplotlib.pyplot as plt\n",
    "from pandas import DataFrame\n",
    "import seaborn as sns\n",
    "%matplotlib inline"
   ]
  },
  {
   "cell_type": "code",
   "execution_count": 190,
   "metadata": {
    "ExecuteTime": {
     "end_time": "2018-11-29T21:08:44.295275Z",
     "start_time": "2018-11-29T21:08:44.285283Z"
    },
    "collapsed": true
   },
   "outputs": [],
   "source": [
    "# define a small N and world_size (small for ease of visualization)\n",
    "N_test = 5\n",
    "num_landmarks_test = 2\n",
    "small_world = 10\n",
    "\n",
    "# initialize the constraints\n",
    "initial_omega, initial_xi = initialize_constraints(N_test, num_landmarks_test, small_world)"
   ]
  },
  {
   "cell_type": "code",
   "execution_count": 253,
   "metadata": {
    "ExecuteTime": {
     "end_time": "2018-11-29T21:32:47.498698Z",
     "start_time": "2018-11-29T21:32:46.522607Z"
    }
   },
   "outputs": [
    {
     "data": {
      "image/png": "[encoded data removed]",
      "text/plain": [
       "<Figure size 720x504 with 2 Axes>"
      ]
     },
     "metadata": {},
     "output_type": "display_data"
    }
   ],
   "source": [
    "# define figure size\n",
    "plt.rcParams[\"figure.figsize\"] = (10,7)\n",
    "\n",
    "# display omega\n",
    "sns.heatmap(DataFrame(initial_omega), cmap='Blues', annot=True, linewidths=.5);"
   ]
  },
  {
   "cell_type": "code",
   "execution_count": 254,
   "metadata": {
    "ExecuteTime": {
     "end_time": "2018-11-29T21:32:48.122117Z",
     "start_time": "2018-11-29T21:32:47.698512Z"
    }
   },
   "outputs": [
    {
     "data": {
      "image/png": "[encoded data removed]",
      "text/plain": [
       "<Figure size 72x504 with 2 Axes>"
      ]
     },
     "metadata": {},
     "output_type": "display_data"
    }
   ],
   "source": [
    "# define  figure size\n",
    "plt.rcParams[\"figure.figsize\"] = (1,7)\n",
    "\n",
    "# display xi\n",
    "sns.heatmap(DataFrame(initial_xi), cmap='Oranges', annot=True, linewidths=.5);"
   ]
  },
  {
   "cell_type": "markdown",
   "metadata": {},
   "source": [
    "---\n",
    "## SLAM inputs \n",
    "\n",
    "In addition to `data`, your slam function will also take in:\n",
    "* N -   The number of time steps that a robot will be moving and sensing\n",
    "* num_landmarks - The number of landmarks in the world\n",
    "* world_size - The size (w/h) of your world\n",
    "* motion_noise - The noise associated with motion; the update confidence for motion should be `1.0/motion_noise`\n",
    "* measurement_noise - The noise associated with measurement/sensing; the update weight for measurement should be `1.0/measurement_noise`\n",
    "\n",
    "#### A note on noise\n",
    "\n",
    "Recall that `omega` holds the relative \"strengths\" or weights for each position variable, and you can update these weights by accessing the correct index in omega `omega[row][col]` and *adding/subtracting* `1.0/noise` where `noise` is measurement or motion noise. `Xi` holds actual position values, and so to update `xi` you'll do a similar addition process only using the actual value of a motion or measurement. So for a vector index `xi[row][0]` you will end up adding/subtracting one measurement or motion divided by their respective `noise`.\n",
    "\n",
    "### TODO: Implement Graph SLAM\n",
    "\n",
    "Follow the TODO's below to help you complete this slam implementation (these TODO's are in the recommended order), then test out your implementation! \n",
    "\n",
    "#### Updating with motion and measurements\n",
    "\n",
    "With a 2D omega and xi structure as shown above (in earlier cells), you'll have to be mindful about how you update the values in these constraint matrices to account for motion and measurement constraints in the x and y directions. Recall that the solution to these matrices (which holds all values for robot poses `P` and landmark locations `L`) is the vector, `mu`, which can be computed at the end of the construction of omega and xi as the inverse of omega times xi: $\\mu = \\Omega^{-1}\\xi$\n",
    "\n",
    "**You may also choose to return the values of `omega` and `xi` if you want to visualize their final state!**"
   ]
  },
  {
   "cell_type": "code",
   "execution_count": 278,
   "metadata": {
    "ExecuteTime": {
     "end_time": "2018-11-29T21:45:22.541500Z",
     "start_time": "2018-11-29T21:45:22.055952Z"
    },
    "collapsed": true
   },
   "outputs": [],
   "source": [
    "## TODO: Complete the code to implement SLAM\n",
    "\n",
    "## slam takes in 6 arguments and returns mu, \n",
    "## mu is the entire path traversed by a robot (all x,y poses) *and* all landmarks locations\n",
    "def slam(data, N, num_landmarks, world_size, motion_noise, measurement_noise):\n",
    "    \n",
    "    ## TODO: Use your initilization to create constraint matrices, omega and xi\n",
    "    omega, xi = initialize_constraints(N,num_landmarks,world_size)\n",
    "    \n",
    "    omega_posses = N         \n",
    "    measurement_noise_weight = 1.0 / measurement_noise\n",
    "    motion_noise_weight = 1.0 / motion_noise\n",
    "    \n",
    "    ## TODO: Iterate through each time step in the data\n",
    "    ## get all the motion and measurement data as you iterate\n",
    "    for pose,step_data in enumerate(data):\n",
    "        x = pose * 2\n",
    "        y = x + 1\n",
    "        measurements = step_data[0]\n",
    "        motion = step_data[1]\n",
    "    \n",
    "        ## TODO: update the constraint matrix/vector to account for all *measurements*\n",
    "        ## this should be a series of additions that take into account the measurement noise\n",
    "        for measurement in measurements:\n",
    "            landmark_idx = measurement[0]        \n",
    "            dx =  measurement[1]\n",
    "            dy = measurement[2]\n",
    "\n",
    "            landmark_pos_x = (N + landmark_idx) * 2 #first_landmark_idx + landmark_idx\n",
    "            landmark_pos_y = landmark_pos_x + 1\n",
    "            \n",
    "            #Update Omega measurements\n",
    "            omega[x][x] +=1\n",
    "            omega[x][landmark_pos_x] -=1        \n",
    "            omega[landmark_pos_x][x] -=1\n",
    "            omega[landmark_pos_x][landmark_pos_x] +=1        \n",
    "\n",
    "            omega[y][y] +=1\n",
    "            omega[y][landmark_pos_y] -=1        \n",
    "            omega[landmark_pos_y][y] -=1\n",
    "            omega[landmark_pos_y][landmark_pos_y] +=1\n",
    "\n",
    "            # Update Xi measurements\n",
    "            # TODO: Add measurement noise\n",
    "            xi[x] -=  dx + measurement_noise_weight\n",
    "            xi[landmark_pos_x] +=  dx + measurement_noise_weight\n",
    "\n",
    "            xi[y] -=  dy + measurement_noise_weight\n",
    "            xi[landmark_pos_y] +=  dy + measurement_noise_weight\n",
    "       \n",
    "\n",
    "        ## TODO: update the constraint matrix/vector to account for all *motion* and motion noise\n",
    "        next_pose_x =  x + 2\n",
    "        next_pose_y =  next_pose_x + 1\n",
    "        \n",
    "        motion_dx = motion[0]\n",
    "        motion_dy = motion[1]\n",
    "\n",
    "        # Update omega motions\n",
    "        omega[x][x] +=1\n",
    "        omega[x][next_pose_x] -=1\n",
    "        omega[next_pose_x][x] -=1\n",
    "        omega[next_pose_x][next_pose_x] +=1\n",
    "\n",
    "        omega[y][y] +=1\n",
    "        omega[y][next_pose_y] -=1\n",
    "        omega[next_pose_y][y] -=1\n",
    "        omega[next_pose_y][next_pose_y] +=1\n",
    "        \n",
    "        # Update Xi motions\n",
    "        # TODO: Add motion noise\n",
    "        xi[x] -= motion_dx + motion_noise_weight\n",
    "        xi[next_pose_x] += motion_dx + motion_noise_weight\n",
    "\n",
    "        xi[y] -= motion_dy + motion_noise_weight\n",
    "        xi[next_pose_y] += motion_dy + motion_noise_weight\n",
    "    #print(omega)\n",
    "   \n",
    "    ## TODO: After iterating through all the data\n",
    "    ## Compute the best estimate of poses and landmark positions\n",
    "    ## using the formula, omega_inverse * Xi\n",
    "    mu = np.linalg.inv(np.matrix(omega)) * xi        \n",
    "\n",
    "    return mu"
   ]
  },
  {
   "cell_type": "markdown",
   "metadata": {},
   "source": [
    "## Helper functions\n",
    "\n",
    "To check that your implementation of SLAM works for various inputs, we have provided two helper functions that will help display the estimated pose and landmark locations that your function has produced. First, given a result `mu` and number of time steps, `N`, we define a function that extracts the poses and landmarks locations and returns those as their own, separate lists. \n",
    "\n",
    "Then, we define a function that nicely print out these lists; both of these we will call, in the next step.\n"
   ]
  },
  {
   "cell_type": "code",
   "execution_count": 279,
   "metadata": {
    "ExecuteTime": {
     "end_time": "2018-11-29T21:45:23.140941Z",
     "start_time": "2018-11-29T21:45:23.118963Z"
    },
    "collapsed": true
   },
   "outputs": [],
   "source": [
    "# a helper function that creates a list of poses and of landmarks for ease of printing\n",
    "# this only works for the suggested constraint architecture of interlaced x,y poses\n",
    "def get_poses_landmarks(mu, N):\n",
    "    # create a list of poses\n",
    "    poses = []\n",
    "    for i in range(N):\n",
    "        poses.append((mu[2*i].item(), mu[2*i+1].item()))\n",
    "\n",
    "    # create a list of landmarks\n",
    "    landmarks = []\n",
    "    for i in range(num_landmarks):\n",
    "        landmarks.append((mu[2*(N+i)].item(), mu[2*(N+i)+1].item()))\n",
    "\n",
    "    # return completed lists\n",
    "    return poses, landmarks\n"
   ]
  },
  {
   "cell_type": "code",
   "execution_count": 280,
   "metadata": {
    "ExecuteTime": {
     "end_time": "2018-11-29T21:45:23.563548Z",
     "start_time": "2018-11-29T21:45:23.540571Z"
    },
    "collapsed": true
   },
   "outputs": [],
   "source": [
    "def print_all(poses, landmarks):\n",
    "    print('\\n')\n",
    "    print('Estimated Poses:')\n",
    "    for i in range(len(poses)):\n",
    "        print('['+', '.join('%.3f'%p for p in poses[i])+']')\n",
    "    print('\\n')\n",
    "    print('Estimated Landmarks:')\n",
    "    for i in range(len(landmarks)):\n",
    "        print('['+', '.join('%.3f'%l for l in landmarks[i])+']')\n"
   ]
  },
  {
   "cell_type": "markdown",
   "metadata": {},
   "source": [
    "## Run SLAM\n",
    "\n",
    "Once you've completed your implementation of `slam`, see what `mu` it returns for different world sizes and different landmarks!\n",
    "\n",
    "### What to Expect\n",
    "\n",
    "The `data` that is generated is random, but you did specify the number, `N`, or time steps that the robot was expected to move and the `num_landmarks` in the world (which your implementation of `slam` should see and estimate a position for. Your robot should also start with an estimated pose in the very center of your square world, whose size is defined by `world_size`.\n",
    "\n",
    "With these values in mind, you should expect to see a result that displays two lists:\n",
    "1. **Estimated poses**, a list of (x, y) pairs that is exactly `N` in length since this is how many motions your robot has taken. The very first pose should be the center of your world, i.e. `[50.000, 50.000]` for a world that is 100.0 in square size.\n",
    "2. **Estimated landmarks**, a list of landmark positions (x, y) that is exactly `num_landmarks` in length. \n",
    "\n",
    "#### Landmark Locations\n",
    "\n",
    "If you refer back to the printout of *exact* landmark locations when this data was created, you should see values that are very similar to those coordinates, but not quite (since `slam` must account for noise in motion and measurement)."
   ]
  },
  {
   "cell_type": "code",
   "execution_count": 281,
   "metadata": {
    "ExecuteTime": {
     "end_time": "2018-11-29T21:45:24.416756Z",
     "start_time": "2018-11-29T21:45:24.381792Z"
    },
    "pixiedust": {
     "displayParams": {}
    }
   },
   "outputs": [
    {
     "name": "stdout",
     "output_type": "stream",
     "text": [
      "\n",
      "\n",
      "Estimated Poses:\n",
      "[50.000, 50.000]\n",
      "[49.957, 64.038]\n",
      "[49.951, 70.845]\n",
      "[50.551, 60.357]\n",
      "[50.409, 43.842]\n",
      "[52.538, 28.510]\n",
      "[54.657, 25.236]\n",
      "[39.646, 21.935]\n",
      "[29.113, 36.974]\n",
      "[41.609, 28.523]\n",
      "[48.853, 40.272]\n",
      "[51.243, 57.062]\n",
      "[50.580, 72.229]\n",
      "[51.386, 78.018]\n",
      "[48.198, 80.270]\n",
      "[45.695, 80.276]\n",
      "[52.773, 76.316]\n",
      "[44.105, 69.503]\n",
      "[45.453, 64.035]\n",
      "[28.557, 74.404]\n",
      "\n",
      "\n",
      "Estimated Landmarks:\n",
      "[72.373, 73.775]\n",
      "[70.711, 86.131]\n",
      "[69.672, 24.022]\n",
      "[73.925, 63.728]\n",
      "[72.426, 75.604]\n"
     ]
    }
   ],
   "source": [
    "np.set_printoptions(threshold=np.nan)\n",
    "\n",
    "# call your implementation of slam, passing in the necessary parameters\n",
    "mu = slam(data, N, num_landmarks, world_size, motion_noise, measurement_noise)\n",
    "\n",
    "# print out the resulting landmarks and poses\n",
    "if(mu is not None):\n",
    "    # get the lists of poses and landmarks\n",
    "    # and print them out\n",
    "    poses, landmarks = get_poses_landmarks(mu, N)\n",
    "    print_all(poses, landmarks)"
   ]
  },
  {
   "cell_type": "markdown",
   "metadata": {},
   "source": [
    "## Visualize the constructed world\n",
    "\n",
    "Finally, using the `display_world` code from the `helpers.py` file (which was also used in the first notebook), we can actually visualize what you have coded with `slam`: the final position of the robot and the positon of landmarks, created from only motion and measurement data!\n",
    "\n",
    "**Note that these should be very similar to the printed *true* landmark locations and final pose from our call to `make_data` early in this notebook.**"
   ]
  },
  {
   "cell_type": "code",
   "execution_count": 282,
   "metadata": {
    "ExecuteTime": {
     "end_time": "2018-11-29T21:45:27.562831Z",
     "start_time": "2018-11-29T21:45:26.384925Z"
    }
   },
   "outputs": [
    {
     "name": "stdout",
     "output_type": "stream",
     "text": [
      "Last pose:  (28.557147242281815, 74.40408958104868)\n"
     ]
    },
    {
     "data": {
      "image/png": "[encoded data removed]",
      "text/plain": [
       "<Figure size 1440x1440 with 1 Axes>"
      ]
     },
     "metadata": {},
     "output_type": "display_data"
    }
   ],
   "source": [
    "# import the helper function\n",
    "from helpers import display_world\n",
    "\n",
    "# Display the final world!\n",
    "\n",
    "# define figure size\n",
    "plt.rcParams[\"figure.figsize\"] = (20,20)\n",
    "\n",
    "# check if poses has been created\n",
    "if 'poses' in locals():\n",
    "    # print out the last pose\n",
    "    print('Last pose: ', poses[-1])\n",
    "    # display the last position of the robot *and* the landmark positions\n",
    "    display_world(int(world_size), poses[-1], landmarks)"
   ]
  },
  {
   "cell_type": "markdown",
   "metadata": {},
   "source": [
    "### Question: How far away is your final pose (as estimated by `slam`) compared to the *true* final pose? Why do you think these poses are different?\n",
    "\n",
    "You can find the true value of the final pose in one of the first cells where `make_data` was called. You may also want to look at the true landmark locations and compare them to those that were estimated by `slam`. Ask yourself: what do you think would happen if we moved and sensed more (increased N)? Or if we had lower/higher noise parameters."
   ]
  },
  {
   "cell_type": "markdown",
   "metadata": {},
   "source": [
    "**Answer**: (Write your answer here.)"
   ]
  },
  {
   "cell_type": "markdown",
   "metadata": {},
   "source": [
    "## Testing\n",
    "\n",
    "To confirm that your slam code works before submitting your project, it is suggested that you run it on some test data and cases. A few such cases have been provided for you, in the cells below. When you are ready, uncomment the test cases in the next cells (there are two test cases, total); your output should be **close-to or exactly** identical to the given results. If there are minor discrepancies it could be a matter of floating point accuracy or in the calculation of the inverse matrix.\n",
    "\n",
    "### Submit your project\n",
    "\n",
    "If you pass these tests, it is a good indication that your project will pass all the specifications in the project rubric. Follow the submission instructions to officially submit!"
   ]
  },
  {
   "cell_type": "code",
   "execution_count": 283,
   "metadata": {
    "ExecuteTime": {
     "end_time": "2018-11-29T21:45:28.673797Z",
     "start_time": "2018-11-29T21:45:28.318127Z"
    },
    "scrolled": false
   },
   "outputs": [
    {
     "name": "stdout",
     "output_type": "stream",
     "text": [
      "\n",
      "\n",
      "Estimated Poses:\n",
      "[50.000, 50.000]\n",
      "[38.122, 33.801]\n",
      "[26.394, 18.364]\n",
      "[13.973, 2.344]\n",
      "[28.319, 17.005]\n",
      "[42.573, 31.091]\n",
      "[55.978, 44.644]\n",
      "[70.992, 59.835]\n",
      "[85.828, 75.673]\n",
      "[74.140, 92.563]\n",
      "[53.673, 96.582]\n",
      "[34.655, 100.209]\n",
      "[48.747, 84.077]\n",
      "[60.335, 68.245]\n",
      "[73.993, 53.150]\n",
      "[87.444, 38.851]\n",
      "[80.664, 20.869]\n",
      "[73.208, 3.355]\n",
      "[55.753, 13.762]\n",
      "[38.423, 23.324]\n",
      "\n",
      "\n",
      "Estimated Landmarks:\n",
      "[83.817, 14.400]\n",
      "[71.122, 74.769]\n",
      "[37.376, 61.917]\n",
      "[19.285, 66.647]\n",
      "[21.385, 17.625]\n"
     ]
    }
   ],
   "source": [
    "# Here is the data and estimated outputs for test case 1\n",
    "\n",
    "test_data1 = [[[[1, 19.457599255548065, 23.8387362100849], [2, -13.195807561967236, 11.708840328458608], [3, -30.0954905279171, 15.387879242505843]], [-12.2607279422326, -15.801093326936487]], [[[2, -0.4659930049620491, 28.088559771215664], [4, -17.866382374890936, -16.384904503932]], [-12.2607279422326, -15.801093326936487]], [[[4, -6.202512900833806, -1.823403210274639]], [-12.2607279422326, -15.801093326936487]], [[[4, 7.412136480918645, 15.388585962142429]], [14.008259661173426, 14.274756084260822]], [[[4, -7.526138813444998, -0.4563942429717849]], [14.008259661173426, 14.274756084260822]], [[[2, -6.299793150150058, 29.047830407717623], [4, -21.93551130411791, -13.21956810989039]], [14.008259661173426, 14.274756084260822]], [[[1, 15.796300959032276, 30.65769689694247], [2, -18.64370821983482, 17.380022987031367]], [14.008259661173426, 14.274756084260822]], [[[1, 0.40311325410337906, 14.169429532679855], [2, -35.069349468466235, 2.4945558982439957]], [14.008259661173426, 14.274756084260822]], [[[1, -16.71340983241936, -2.777000269543834]], [-11.006096015782283, 16.699276945166858]], [[[1, -3.611096830835776, -17.954019226763958]], [-19.693482634035977, 3.488085684573048]], [[[1, 18.398273354362416, -22.705102332550947]], [-19.693482634035977, 3.488085684573048]], [[[2, 2.789312482883833, -39.73720193121324]], [12.849049222879723, -15.326510824972983]], [[[1, 21.26897046581808, -10.121029799040915], [2, -11.917698965880655, -23.17711662602097], [3, -31.81167947898398, -16.7985673023331]], [12.849049222879723, -15.326510824972983]], [[[1, 10.48157743234859, 5.692957082575485], [2, -22.31488473554935, -5.389184118551409], [3, -40.81803984305378, -2.4703329790238118]], [12.849049222879723, -15.326510824972983]], [[[0, 10.591050242096598, -39.2051798967113], [1, -3.5675572049297553, 22.849456408289125], [2, -38.39251065320351, 7.288990306029511]], [12.849049222879723, -15.326510824972983]], [[[0, -3.6225556479370766, -25.58006865235512]], [-7.8874682868419965, -18.379005523261092]], [[[0, 1.9784503557879374, -6.5025974151499]], [-7.8874682868419965, -18.379005523261092]], [[[0, 10.050665232782423, 11.026385307998742]], [-17.82919359778298, 9.062000642947142]], [[[0, 26.526838150174818, -0.22563393232425621], [4, -33.70303936886652, 2.880339841013677]], [-17.82919359778298, 9.062000642947142]]]\n",
    "\n",
    "##  Test Case 1\n",
    "##\n",
    "# Estimated Pose(s):\n",
    "#     [50.000, 50.000]\n",
    "#     [37.858, 33.921]\n",
    "#     [25.905, 18.268]\n",
    "#     [13.524, 2.224]\n",
    "#     [27.912, 16.886]\n",
    "#     [42.250, 30.994]\n",
    "#     [55.992, 44.886]\n",
    "#     [70.749, 59.867]\n",
    "#     [85.371, 75.230]\n",
    "#     [73.831, 92.354]\n",
    "#     [53.406, 96.465]\n",
    "#     [34.370, 100.134]\n",
    "#     [48.346, 83.952]\n",
    "#     [60.494, 68.338]\n",
    "#     [73.648, 53.082]\n",
    "#     [86.733, 38.197]\n",
    "#     [79.983, 20.324]\n",
    "#     [72.515, 2.837]\n",
    "#     [54.993, 13.221]\n",
    "#     [37.164, 22.283]\n",
    "\n",
    "\n",
    "# Estimated Landmarks:\n",
    "#     [82.679, 13.435]\n",
    "#     [70.417, 74.203]\n",
    "#     [36.688, 61.431]\n",
    "#     [18.705, 66.136]\n",
    "#     [20.437, 16.983]\n",
    "\n",
    "\n",
    "### Uncomment the following three lines for test case 1 and compare the output to the values above ###\n",
    "\n",
    "mu_1 = slam(test_data1, 20, 5, 100.0, 2.0, 2.0)\n",
    "poses, landmarks = get_poses_landmarks(mu_1, 20)\n",
    "print_all(poses, landmarks)"
   ]
  },
  {
   "cell_type": "code",
   "execution_count": 284,
   "metadata": {
    "ExecuteTime": {
     "end_time": "2018-11-29T21:45:31.560111Z",
     "start_time": "2018-11-29T21:45:31.100539Z"
    }
   },
   "outputs": [
    {
     "name": "stdout",
     "output_type": "stream",
     "text": [
      "\n",
      "\n",
      "Estimated Poses:\n",
      "[50.000, 50.000]\n",
      "[69.327, 45.812]\n",
      "[87.920, 39.881]\n",
      "[76.458, 56.499]\n",
      "[64.508, 72.367]\n",
      "[52.454, 88.350]\n",
      "[44.247, 69.589]\n",
      "[37.181, 50.098]\n",
      "[31.102, 31.133]\n",
      "[23.686, 11.597]\n",
      "[34.358, 27.311]\n",
      "[44.335, 44.026]\n",
      "[54.995, 61.109]\n",
      "[65.890, 78.738]\n",
      "[77.669, 95.828]\n",
      "[97.006, 99.025]\n",
      "[76.164, 100.179]\n",
      "[70.417, 81.399]\n",
      "[64.350, 62.019]\n",
      "[58.903, 43.423]\n",
      "\n",
      "\n",
      "Estimated Landmarks:\n",
      "[77.457, 43.565]\n",
      "[85.764, 78.138]\n",
      "[14.245, 96.349]\n",
      "[60.124, 40.271]\n",
      "[69.972, 94.948]\n"
     ]
    }
   ],
   "source": [
    "# Here is the data and estimated outputs for test case 2\n",
    "\n",
    "test_data2 = [[[[0, 26.543274387283322, -6.262538160312672], [3, 9.937396825799755, -9.128540360867689]], [18.92765331253674, -6.460955043986683]], [[[0, 7.706544739722961, -3.758467215445748], [1, 17.03954411948937, 31.705489938553438], [3, -11.61731288777497, -6.64964096716416]], [18.92765331253674, -6.460955043986683]], [[[0, -12.35130507136378, 2.585119104239249], [1, -2.563534536165313, 38.22159657838369], [3, -26.961236804740935, -0.4802312626141525]], [-11.167066095509824, 16.592065417497455]], [[[0, 1.4138633151721272, -13.912454837810632], [1, 8.087721200818589, 20.51845934354381], [3, -17.091723454402302, -16.521500551709707], [4, -7.414211721400232, 38.09191602674439]], [-11.167066095509824, 16.592065417497455]], [[[0, 12.886743222179561, -28.703968411636318], [1, 21.660953298391387, 3.4912891084614914], [3, -6.401401414569506, -32.321583037341625], [4, 5.034079343639034, 23.102207946092893]], [-11.167066095509824, 16.592065417497455]], [[[1, 31.126317672358578, -10.036784369535214], [2, -38.70878528420893, 7.4987265861424595], [4, 17.977218575473767, 6.150889254289742]], [-6.595520680493778, -18.88118393939265]], [[[1, 41.82460922922086, 7.847527392202475], [3, 15.711709540417502, -30.34633659912818]], [-6.595520680493778, -18.88118393939265]], [[[0, 40.18454208294434, -6.710999804403755], [3, 23.019508919299156, -10.12110867290604]], [-6.595520680493778, -18.88118393939265]], [[[3, 27.18579315312821, 8.067219022708391]], [-6.595520680493778, -18.88118393939265]], [[], [11.492663265706092, 16.36822198838621]], [[[3, 24.57154567653098, 13.461499960708197]], [11.492663265706092, 16.36822198838621]], [[[0, 31.61945290413707, 0.4272295085799329], [3, 16.97392299158991, -5.274596836133088]], [11.492663265706092, 16.36822198838621]], [[[0, 22.407381798735177, -18.03500068379259], [1, 29.642444125196995, 17.3794951934614], [3, 4.7969752441371645, -21.07505361639969], [4, 14.726069092569372, 32.75999422300078]], [11.492663265706092, 16.36822198838621]], [[[0, 10.705527984670137, -34.589764174299596], [1, 18.58772336795603, -0.20109708164787765], [3, -4.839806195049413, -39.92208742305105], [4, 4.18824810165454, 14.146847823548889]], [11.492663265706092, 16.36822198838621]], [[[1, 5.878492140223764, -19.955352450942357], [4, -7.059505455306587, -0.9740849280550585]], [19.628527845173146, 3.83678180657467]], [[[1, -11.150789592446378, -22.736641053247872], [4, -28.832815721158255, -3.9462962046291388]], [-19.841703647091965, 2.5113335861604362]], [[[1, 8.64427397916182, -20.286336970889053], [4, -5.036917727942285, -6.311739993868336]], [-5.946642674882207, -19.09548221169787]], [[[0, 7.151866679283043, -39.56103232616369], [1, 16.01535401373368, -3.780995345194027], [4, -3.04801331832137, 13.697362774960865]], [-5.946642674882207, -19.09548221169787]], [[[0, 12.872879480504395, -19.707592098123207], [1, 22.236710716903136, 16.331770792606406], [3, -4.841206109583004, -21.24604435851242], [4, 4.27111163223552, 32.25309748614184]], [-5.946642674882207, -19.09548221169787]]] \n",
    "\n",
    "\n",
    "##  Test Case 2\n",
    "##\n",
    "# Estimated Pose(s):\n",
    "#     [50.000, 50.000]\n",
    "#     [69.035, 45.061]\n",
    "#     [87.655, 38.971]\n",
    "#     [76.084, 55.541]\n",
    "#     [64.283, 71.684]\n",
    "#     [52.396, 87.887]\n",
    "#     [44.674, 68.948]\n",
    "#     [37.532, 49.680]\n",
    "#     [31.392, 30.893]\n",
    "#     [24.796, 12.012]\n",
    "#     [33.641, 26.440]\n",
    "#     [43.858, 43.560]\n",
    "#     [54.735, 60.659]\n",
    "#     [65.884, 77.791]\n",
    "#     [77.413, 94.554]\n",
    "#     [96.740, 98.020]\n",
    "#     [76.149, 99.586]\n",
    "#     [70.211, 80.580]\n",
    "#     [64.130, 61.270]\n",
    "#     [58.183, 42.175]\n",
    "\n",
    "\n",
    "# Estimated Landmarks:\n",
    "#     [76.777, 42.415]\n",
    "#     [85.109, 76.850]\n",
    "#     [13.687, 95.386]\n",
    "#     [59.488, 39.149]\n",
    "#     [69.283, 93.654]\n",
    "\n",
    "\n",
    "### Uncomment the following three lines for test case 2 and compare to the values above ###\n",
    "\n",
    "mu_2 = slam(test_data2, 20, 5, 100.0, 2.0, 2.0)\n",
    "poses, landmarks = get_poses_landmarks(mu_2, 20)\n",
    "print_all(poses, landmarks)\n"
   ]
  }
 ],
 "metadata": {
  "kernelspec": {
   "display_name": "Python 3",
   "language": "python",
   "name": "python3"
  },
  "language_info": {
   "codemirror_mode": {
    "name": "ipython",
    "version": 3
   },
   "file_extension": ".py",
   "mimetype": "text/x-python",
   "name": "python",
   "nbconvert_exporter": "python",
   "pygments_lexer": "ipython3",
   "version": "3.6.2"
  },
  "notify_time": "5",
  "varInspector": {
   "cols": {
    "lenName": "40",
    "lenType": 16,
    "lenVar": "50"
   },
   "kernels_config": {
    "python": {
     "delete_cmd_postfix": "",
     "delete_cmd_prefix": "del ",
     "library": "var_list.py",
     "varRefreshCmd": "print(var_dic_list())"
    },
    "r": {
     "delete_cmd_postfix": ") ",
     "delete_cmd_prefix": "rm(",
     "library": "var_list.r",
     "varRefreshCmd": "cat(var_dic_list()) "
    }
   },
   "position": {
    "height": "1014px",
    "left": "-1.5875px",
    "right": "20px",
    "top": "63px",
    "width": "562px"
   },
   "types_to_exclude": [
    "module",
    "function",
    "builtin_function_or_method",
    "instance",
    "_Feature"
   ],
   "window_display": false
  }
 },
 "nbformat": 4,
 "nbformat_minor": 2
}
